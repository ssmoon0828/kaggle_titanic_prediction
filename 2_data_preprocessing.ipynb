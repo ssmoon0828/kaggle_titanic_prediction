{
 "cells": [
  {
   "cell_type": "markdown",
   "metadata": {},
   "source": [
    "# 타이타닉호 생존자 예측\n",
    "\n",
    "- RMS 타이타닉 호(이하 타이타닉 호)는 1912년 4월 15일 빙산과 충돌하여 침몰한 북대서양 횡단 여객선이다.\n",
    "\n",
    "- 타이타닉 호에 탑승했던 승객들의 승객번호, 선실등급, 이름, 성별, 나이, 배우자, 형제자매, 부모, 자녀 수, 티켓번호, 운임요금, 선실명, 승선장 정보가 원인변수, 생존여부가 결과변수로 들어있는 데이터프레임을 다양한 기계학습 기법(KNN, 로지스틱회귀분석, 나이브베이즈, SVM, 의사결정나무, 랜덤포레스트)을 이용해 생존여부를 예측 모델을 구축하고자 한다."
   ]
  },
  {
   "cell_type": "markdown",
   "metadata": {},
   "source": [
    "## 2. 데이터 전처리"
   ]
  },
  {
   "cell_type": "markdown",
   "metadata": {},
   "source": [
    "### 1. 모듈 장착"
   ]
  },
  {
   "cell_type": "code",
   "execution_count": 2,
   "metadata": {},
   "outputs": [],
   "source": [
    "# basic module\n",
    "import numpy as np\n",
    "import pandas as pd\n",
    "import matplotlib.pyplot as plt\n",
    "import os\n",
    "import re\n",
    "\n",
    "# sklearn module\n",
    "from sklearn.preprocessing import RobustScaler\n",
    "from sklearn.linear_model import Lasso"
   ]
  },
  {
   "cell_type": "markdown",
   "metadata": {},
   "source": [
    "### 2. 디렉토리 설정"
   ]
  },
  {
   "cell_type": "code",
   "execution_count": 3,
   "metadata": {},
   "outputs": [],
   "source": [
    "os.chdir('C:/Users/ssmoo/Desktop/kaggle_titanic_prediction')\n",
    "data_path = 'C:/Users/ssmoo/Desktop/kaggle_titanic_prediction/data/'"
   ]
  },
  {
   "cell_type": "markdown",
   "metadata": {},
   "source": [
    "### 3. 데이터 불러오기"
   ]
  },
  {
   "cell_type": "code",
   "execution_count": 4,
   "metadata": {},
   "outputs": [],
   "source": [
    "raw_train = pd.read_csv(data_path + 'raw_data/train.csv')\n",
    "raw_test = pd.read_csv(data_path + 'raw_data/test.csv')"
   ]
  },
  {
   "cell_type": "markdown",
   "metadata": {},
   "source": [
    "### 4. 데이터 복제"
   ]
  },
  {
   "cell_type": "code",
   "execution_count": 20,
   "metadata": {},
   "outputs": [],
   "source": [
    "train = raw_train.copy()\n",
    "test = raw_test.copy()"
   ]
  },
  {
   "cell_type": "markdown",
   "metadata": {},
   "source": [
    "### 5. 데이터 확인"
   ]
  },
  {
   "cell_type": "code",
   "execution_count": 21,
   "metadata": {},
   "outputs": [
    {
     "name": "stdout",
     "output_type": "stream",
     "text": [
      "<class 'pandas.core.frame.DataFrame'>\n",
      "RangeIndex: 891 entries, 0 to 890\n",
      "Data columns (total 12 columns):\n",
      "PassengerId    891 non-null int64\n",
      "Survived       891 non-null int64\n",
      "Pclass         891 non-null int64\n",
      "Name           891 non-null object\n",
      "Sex            891 non-null object\n",
      "Age            714 non-null float64\n",
      "SibSp          891 non-null int64\n",
      "Parch          891 non-null int64\n",
      "Ticket         891 non-null object\n",
      "Fare           891 non-null float64\n",
      "Cabin          204 non-null object\n",
      "Embarked       889 non-null object\n",
      "dtypes: float64(2), int64(5), object(5)\n",
      "memory usage: 83.6+ KB\n"
     ]
    }
   ],
   "source": [
    "train.info()"
   ]
  },
  {
   "cell_type": "markdown",
   "metadata": {},
   "source": [
    "- 1장의 데이터 탐색에서 봤던 것과 마찬가지로 891개의 데이터와 Survived(생존여부) 변수를 포함한 12개의 변수가 들어있다."
   ]
  },
  {
   "cell_type": "code",
   "execution_count": 22,
   "metadata": {},
   "outputs": [
    {
     "name": "stdout",
     "output_type": "stream",
     "text": [
      "<class 'pandas.core.frame.DataFrame'>\n",
      "RangeIndex: 418 entries, 0 to 417\n",
      "Data columns (total 11 columns):\n",
      "PassengerId    418 non-null int64\n",
      "Pclass         418 non-null int64\n",
      "Name           418 non-null object\n",
      "Sex            418 non-null object\n",
      "Age            332 non-null float64\n",
      "SibSp          418 non-null int64\n",
      "Parch          418 non-null int64\n",
      "Ticket         418 non-null object\n",
      "Fare           417 non-null float64\n",
      "Cabin          91 non-null object\n",
      "Embarked       418 non-null object\n",
      "dtypes: float64(2), int64(4), object(5)\n",
      "memory usage: 36.0+ KB\n"
     ]
    }
   ],
   "source": [
    "test.info()"
   ]
  },
  {
   "cell_type": "markdown",
   "metadata": {},
   "source": [
    "- 테스트 데이터는 Survived(생존여부) 변수를 예측하여 Kaggle Competition 제출에 쓰일 데이터로 Survived(생존여부)변수를 제외한 11개의 변수와 418개의 데이터로 이루어져 있다."
   ]
  },
  {
   "cell_type": "markdown",
   "metadata": {},
   "source": [
    "### 6. 데이터 전처리(1) : 전처리를 위한 전처리"
   ]
  },
  {
   "cell_type": "markdown",
   "metadata": {},
   "source": [
    "- 데이터를 전처리 하기 위해 함수를 만들 것이다.\n",
    "- 이때 train 데이터프레임과 test 데이터프레임이 전처리 함수에 똑같이 적용될수 있도록 두 데이터의 서로 결측값이 다르게 존재하는 변수들을 채워주도록 하자."
   ]
  },
  {
   "cell_type": "markdown",
   "metadata": {},
   "source": [
    "##### train 데이터프레임 전처리"
   ]
  },
  {
   "cell_type": "code",
   "execution_count": 23,
   "metadata": {},
   "outputs": [],
   "source": [
    "#%% train data preprocessing\n",
    "embarked_notnull_idx = train['Embarked'].notnull()\n",
    "train = train[embarked_notnull_idx]"
   ]
  },
  {
   "cell_type": "markdown",
   "metadata": {},
   "source": [
    "- Embarked(승선장) 변수에 2개의 결측값이 존재한다. 이 결측값이 존재하는 행 데이터 2개를 지워 데이터 전처리를 돕는다."
   ]
  },
  {
   "cell_type": "markdown",
   "metadata": {},
   "source": [
    "##### test 데이터프레임 전처리"
   ]
  },
  {
   "cell_type": "code",
   "execution_count": 24,
   "metadata": {},
   "outputs": [
    {
     "name": "stderr",
     "output_type": "stream",
     "text": [
      "C:\\Users\\ssmoo\\Anaconda3\\lib\\site-packages\\ipykernel_launcher.py:4: SettingWithCopyWarning: \n",
      "A value is trying to be set on a copy of a slice from a DataFrame\n",
      "\n",
      "See the caveats in the documentation: http://pandas.pydata.org/pandas-docs/stable/indexing.html#indexing-view-versus-copy\n",
      "  after removing the cwd from sys.path.\n"
     ]
    }
   ],
   "source": [
    "#%% test data preprocessing\n",
    "PE = test[(test['Pclass'] == 3) & (test['Embarked'] == 'S')]\n",
    "fare_median = np.median(PE[PE['Fare'].notnull()]['Fare'])\n",
    "test['Fare'][152] = fare_median"
   ]
  },
  {
   "cell_type": "markdown",
   "metadata": {},
   "source": [
    "- Fare(운임요금) 변수의 결측값이 존재한다. 이 데이터의 Pclass(선실등급)은 '3'값이며 Embarked(승선장)은 'S'값을 가지고 있다. 이러한 특징을 가지고 있는 데이터들의 평균 운임요금을 Fare(운임요금)의 결측값에 매워준다."
   ]
  },
  {
   "cell_type": "markdown",
   "metadata": {},
   "source": [
    "### 7. 데이터 전처리(2)"
   ]
  },
  {
   "cell_type": "markdown",
   "metadata": {},
   "source": [
    "- train 데이터와 test데이터에 적용시킬 전처리 함수 코드를 구현한다.\n",
    "- 전처리 코드는 1장(데이터탐색)을 기반으로 만들어졌다.\n",
    "- Name 변수는 Mr, Mrs, Miss, Master의 주포지션으로 범주화 된 Position 변수로 변경하였다.\n",
    "- SibSp, Parch 변수는 형제, 자매, 부모, 자식의 존재 여부에 따라 0, 1로 범주화하였다.\n",
    "- 이상치가 많이 존재했던 Fare(운임요금) 변수는 robust scaling을 하였다.\n",
    "- Age 변수의 결측값은 Survived(생존여부) 변수를 제외한 나머지 변수들로 lasso 회귀를 이용하여 예측하였다.\n",
    "- Age 변수는 어린이, 청소년, 청년, 장년, 중년, 노년의 변수로 범주화 된 Aged 변수로 변경하였다.\n",
    "- 범주형 변수는 one-hot encoding 처리 하였다.\n",
    "- 코드에 주석으로 전처리 과정을 설명하였다."
   ]
  },
  {
   "cell_type": "code",
   "execution_count": 26,
   "metadata": {},
   "outputs": [],
   "source": [
    "def preprocessing(titanic_X):\n",
    "    '''\n",
    "    불필요한 변수 PassengerId 변수와\n",
    "    결과변수인 Survived 변수를 제외한 요인변수 데이터를 입력받아 전처리 해준다.\n",
    "    '''\n",
    "    # 불필요한 titanic 변수 제거 (Ticket, Cabin)\n",
    "    del titanic_X['Ticket'], titanic_X['Cabin']\n",
    "    \n",
    "    # 결측치 제거\n",
    "    titanic_X = titanic_X[titanic_X['Embarked'].notnull()]\n",
    "    \n",
    "    # Name 변수 -> Position 변수로 변경\n",
    "    def get_position(name):\n",
    "        position_compile = re.compile('[A-z]*\\.')\n",
    "        position = position_compile.findall(name)\n",
    "        \n",
    "        return position[0][:-1]\n",
    "    \n",
    "    titanic_X['Position'] = titanic_X['Name'].apply(lambda name : get_position(name))\n",
    "    del titanic_X['Name']\n",
    "    \n",
    "    # Name 변수값 Mr, Mrs, Miss, Master로 축약\n",
    "    Mr_list = ['Capt', 'Col', 'Don', 'Jonkheer', 'Major', 'Rev', 'Sir']\n",
    "    Miss_list = ['Countess', 'Lady', 'Mlle', 'Mme', 'Ms', 'Dona']\n",
    "    \n",
    "    for position in Mr_list:\n",
    "        titanic_X.loc[titanic_X['Position'] == position, 'Position'] = 'Mr'\n",
    "        \n",
    "    for position in Miss_list:\n",
    "        titanic_X.loc[titanic_X['Position'] == position, 'Position'] = 'Miss'\n",
    "    \n",
    "    titanic_X.loc[(titanic_X['Sex'] == 'male') & (titanic_X['Position'] == 'Dr'), 'Position'] = 'Mr'\n",
    "    titanic_X.loc[(titanic_X['Sex'] == 'female') & (titanic_X['Position'] == 'Dr'), 'Position'] = 'Miss'\n",
    "    \n",
    "    list(set(titanic_X['Position']))\n",
    "    \n",
    "    # SibSp, Parch -> SibSp_existence, Parch_existence 변수로 변경\n",
    "    def get_existence(num):\n",
    "        if num == 0:\n",
    "            return 0\n",
    "        elif num >= 1:\n",
    "            return 1\n",
    "        else:\n",
    "            return None\n",
    "    \n",
    "    titanic_X['SibSp_existence'] = titanic_X['SibSp'].apply(lambda num : get_existence(num))\n",
    "    titanic_X['Parch_existence'] = titanic_X['Parch'].apply(lambda num : get_existence(num))\n",
    "    \n",
    "    del titanic_X['SibSp'], titanic_X['Parch']\n",
    "    \n",
    "    # Fare 변수 scaling\n",
    "    robust = RobustScaler()\n",
    "    titanic_X['Fare'] = robust.fit_transform(titanic_X[['Fare']])\n",
    "    \n",
    "    # one_hot encoding_1\n",
    "    feature_list = ['Pclass', 'Embarked', 'Position', 'SibSp_existence', 'Parch_existence']\n",
    "    for feature in feature_list:\n",
    "        titanic_X[feature] = titanic_X[feature].astype(str)\n",
    "    \n",
    "    titanic_X = pd.get_dummies(titanic_X)\n",
    "    \n",
    "    # Age 변수 결측값 예측\n",
    "    age_notnull = titanic_X[titanic_X['Age'].notnull()]\n",
    "    age_isnull = titanic_X[titanic_X['Age'].isnull()]\n",
    "    age_notnull_X = age_notnull.iloc[:, 1:]\n",
    "    age_notnull_y = age_notnull.iloc[:, 0]\n",
    "    age_isnull_X = age_isnull.iloc[:, 1:]\n",
    "    lasso = Lasso(alpha = 0.01)\n",
    "    lasso.fit(age_notnull_X.values, age_notnull_y.values)\n",
    "    age_isnull['Age'] = lasso.predict(age_isnull_X.values)\n",
    "    \n",
    "    titanic_X = pd.concat([age_notnull, age_isnull]).sort_index()\n",
    "    \n",
    "    # Age 변수 -> Aged 변수로 변경\n",
    "    def get_aged(age):\n",
    "        if age < 13:\n",
    "            return 0\n",
    "        elif age < 20:\n",
    "            return 1\n",
    "        elif age < 30:\n",
    "            return 2\n",
    "        elif age < 45:\n",
    "            return 3\n",
    "        elif age < 60:\n",
    "            return 4\n",
    "        elif age >= 60:\n",
    "            return 5\n",
    "        else:\n",
    "            return None\n",
    "    \n",
    "    titanic_X['Aged'] = titanic_X['Age'].apply(lambda age : get_aged(age))\n",
    "    del titanic_X['Age']\n",
    "    titanic_X['Aged'] = titanic_X['Aged'].astype(str)\n",
    "    \n",
    "    # one-hot encoding_2\n",
    "    titanic_X = pd.get_dummies(titanic_X)\n",
    "    \n",
    "    return titanic_X"
   ]
  },
  {
   "cell_type": "markdown",
   "metadata": {},
   "source": [
    "### 8. 전처리 데이터 생성"
   ]
  },
  {
   "cell_type": "code",
   "execution_count": 27,
   "metadata": {},
   "outputs": [
    {
     "name": "stderr",
     "output_type": "stream",
     "text": [
      "C:\\Users\\ssmoo\\Anaconda3\\lib\\site-packages\\ipykernel_launcher.py:70: SettingWithCopyWarning: \n",
      "A value is trying to be set on a copy of a slice from a DataFrame.\n",
      "Try using .loc[row_indexer,col_indexer] = value instead\n",
      "\n",
      "See the caveats in the documentation: http://pandas.pydata.org/pandas-docs/stable/indexing.html#indexing-view-versus-copy\n",
      "C:\\Users\\ssmoo\\Anaconda3\\lib\\site-packages\\ipykernel_launcher.py:70: SettingWithCopyWarning: \n",
      "A value is trying to be set on a copy of a slice from a DataFrame.\n",
      "Try using .loc[row_indexer,col_indexer] = value instead\n",
      "\n",
      "See the caveats in the documentation: http://pandas.pydata.org/pandas-docs/stable/indexing.html#indexing-view-versus-copy\n"
     ]
    }
   ],
   "source": [
    "train_X = train.iloc[:, 2:]\n",
    "train_X = preprocessing(train_X)\n",
    "train_y = train.iloc[:, [1]]\n",
    "\n",
    "test_X = test.iloc[:, 1:]\n",
    "test_X = preprocessing(test_X)"
   ]
  },
  {
   "cell_type": "code",
   "execution_count": 28,
   "metadata": {},
   "outputs": [
    {
     "data": {
      "text/html": [
       "<div>\n",
       "<style scoped>\n",
       "    .dataframe tbody tr th:only-of-type {\n",
       "        vertical-align: middle;\n",
       "    }\n",
       "\n",
       "    .dataframe tbody tr th {\n",
       "        vertical-align: top;\n",
       "    }\n",
       "\n",
       "    .dataframe thead th {\n",
       "        text-align: right;\n",
       "    }\n",
       "</style>\n",
       "<table border=\"1\" class=\"dataframe\">\n",
       "  <thead>\n",
       "    <tr style=\"text-align: right;\">\n",
       "      <th></th>\n",
       "      <th>Fare</th>\n",
       "      <th>Pclass_1</th>\n",
       "      <th>Pclass_2</th>\n",
       "      <th>Pclass_3</th>\n",
       "      <th>Sex_female</th>\n",
       "      <th>Sex_male</th>\n",
       "      <th>Embarked_C</th>\n",
       "      <th>Embarked_Q</th>\n",
       "      <th>Embarked_S</th>\n",
       "      <th>Position_Master</th>\n",
       "      <th>...</th>\n",
       "      <th>SibSp_existence_0</th>\n",
       "      <th>SibSp_existence_1</th>\n",
       "      <th>Parch_existence_0</th>\n",
       "      <th>Parch_existence_1</th>\n",
       "      <th>Aged_0</th>\n",
       "      <th>Aged_1</th>\n",
       "      <th>Aged_2</th>\n",
       "      <th>Aged_3</th>\n",
       "      <th>Aged_4</th>\n",
       "      <th>Aged_5</th>\n",
       "    </tr>\n",
       "  </thead>\n",
       "  <tbody>\n",
       "    <tr>\n",
       "      <th>0</th>\n",
       "      <td>-0.311813</td>\n",
       "      <td>0</td>\n",
       "      <td>0</td>\n",
       "      <td>1</td>\n",
       "      <td>0</td>\n",
       "      <td>1</td>\n",
       "      <td>0</td>\n",
       "      <td>0</td>\n",
       "      <td>1</td>\n",
       "      <td>0</td>\n",
       "      <td>...</td>\n",
       "      <td>0</td>\n",
       "      <td>1</td>\n",
       "      <td>1</td>\n",
       "      <td>0</td>\n",
       "      <td>0</td>\n",
       "      <td>0</td>\n",
       "      <td>1</td>\n",
       "      <td>0</td>\n",
       "      <td>0</td>\n",
       "      <td>0</td>\n",
       "    </tr>\n",
       "    <tr>\n",
       "      <th>1</th>\n",
       "      <td>2.459687</td>\n",
       "      <td>1</td>\n",
       "      <td>0</td>\n",
       "      <td>0</td>\n",
       "      <td>1</td>\n",
       "      <td>0</td>\n",
       "      <td>1</td>\n",
       "      <td>0</td>\n",
       "      <td>0</td>\n",
       "      <td>0</td>\n",
       "      <td>...</td>\n",
       "      <td>0</td>\n",
       "      <td>1</td>\n",
       "      <td>1</td>\n",
       "      <td>0</td>\n",
       "      <td>0</td>\n",
       "      <td>0</td>\n",
       "      <td>0</td>\n",
       "      <td>1</td>\n",
       "      <td>0</td>\n",
       "      <td>0</td>\n",
       "    </tr>\n",
       "    <tr>\n",
       "      <th>2</th>\n",
       "      <td>-0.282598</td>\n",
       "      <td>0</td>\n",
       "      <td>0</td>\n",
       "      <td>1</td>\n",
       "      <td>1</td>\n",
       "      <td>0</td>\n",
       "      <td>0</td>\n",
       "      <td>0</td>\n",
       "      <td>1</td>\n",
       "      <td>0</td>\n",
       "      <td>...</td>\n",
       "      <td>1</td>\n",
       "      <td>0</td>\n",
       "      <td>1</td>\n",
       "      <td>0</td>\n",
       "      <td>0</td>\n",
       "      <td>0</td>\n",
       "      <td>1</td>\n",
       "      <td>0</td>\n",
       "      <td>0</td>\n",
       "      <td>0</td>\n",
       "    </tr>\n",
       "    <tr>\n",
       "      <th>3</th>\n",
       "      <td>1.672674</td>\n",
       "      <td>1</td>\n",
       "      <td>0</td>\n",
       "      <td>0</td>\n",
       "      <td>1</td>\n",
       "      <td>0</td>\n",
       "      <td>0</td>\n",
       "      <td>0</td>\n",
       "      <td>1</td>\n",
       "      <td>0</td>\n",
       "      <td>...</td>\n",
       "      <td>0</td>\n",
       "      <td>1</td>\n",
       "      <td>1</td>\n",
       "      <td>0</td>\n",
       "      <td>0</td>\n",
       "      <td>0</td>\n",
       "      <td>0</td>\n",
       "      <td>1</td>\n",
       "      <td>0</td>\n",
       "      <td>0</td>\n",
       "    </tr>\n",
       "    <tr>\n",
       "      <th>4</th>\n",
       "      <td>-0.277188</td>\n",
       "      <td>0</td>\n",
       "      <td>0</td>\n",
       "      <td>1</td>\n",
       "      <td>0</td>\n",
       "      <td>1</td>\n",
       "      <td>0</td>\n",
       "      <td>0</td>\n",
       "      <td>1</td>\n",
       "      <td>0</td>\n",
       "      <td>...</td>\n",
       "      <td>1</td>\n",
       "      <td>0</td>\n",
       "      <td>1</td>\n",
       "      <td>0</td>\n",
       "      <td>0</td>\n",
       "      <td>0</td>\n",
       "      <td>0</td>\n",
       "      <td>1</td>\n",
       "      <td>0</td>\n",
       "      <td>0</td>\n",
       "    </tr>\n",
       "  </tbody>\n",
       "</table>\n",
       "<p>5 rows × 23 columns</p>\n",
       "</div>"
      ],
      "text/plain": [
       "       Fare  Pclass_1  Pclass_2  Pclass_3  Sex_female  Sex_male  Embarked_C  \\\n",
       "0 -0.311813         0         0         1           0         1           0   \n",
       "1  2.459687         1         0         0           1         0           1   \n",
       "2 -0.282598         0         0         1           1         0           0   \n",
       "3  1.672674         1         0         0           1         0           0   \n",
       "4 -0.277188         0         0         1           0         1           0   \n",
       "\n",
       "   Embarked_Q  Embarked_S  Position_Master  ...  SibSp_existence_0  \\\n",
       "0           0           1                0  ...                  0   \n",
       "1           0           0                0  ...                  0   \n",
       "2           0           1                0  ...                  1   \n",
       "3           0           1                0  ...                  0   \n",
       "4           0           1                0  ...                  1   \n",
       "\n",
       "   SibSp_existence_1  Parch_existence_0  Parch_existence_1  Aged_0  Aged_1  \\\n",
       "0                  1                  1                  0       0       0   \n",
       "1                  1                  1                  0       0       0   \n",
       "2                  0                  1                  0       0       0   \n",
       "3                  1                  1                  0       0       0   \n",
       "4                  0                  1                  0       0       0   \n",
       "\n",
       "   Aged_2  Aged_3  Aged_4  Aged_5  \n",
       "0       1       0       0       0  \n",
       "1       0       1       0       0  \n",
       "2       1       0       0       0  \n",
       "3       0       1       0       0  \n",
       "4       0       1       0       0  \n",
       "\n",
       "[5 rows x 23 columns]"
      ]
     },
     "execution_count": 28,
     "metadata": {},
     "output_type": "execute_result"
    }
   ],
   "source": [
    "train_X.head()"
   ]
  },
  {
   "cell_type": "code",
   "execution_count": 29,
   "metadata": {},
   "outputs": [
    {
     "data": {
      "text/html": [
       "<div>\n",
       "<style scoped>\n",
       "    .dataframe tbody tr th:only-of-type {\n",
       "        vertical-align: middle;\n",
       "    }\n",
       "\n",
       "    .dataframe tbody tr th {\n",
       "        vertical-align: top;\n",
       "    }\n",
       "\n",
       "    .dataframe thead th {\n",
       "        text-align: right;\n",
       "    }\n",
       "</style>\n",
       "<table border=\"1\" class=\"dataframe\">\n",
       "  <thead>\n",
       "    <tr style=\"text-align: right;\">\n",
       "      <th></th>\n",
       "      <th>Survived</th>\n",
       "    </tr>\n",
       "  </thead>\n",
       "  <tbody>\n",
       "    <tr>\n",
       "      <th>0</th>\n",
       "      <td>0</td>\n",
       "    </tr>\n",
       "    <tr>\n",
       "      <th>1</th>\n",
       "      <td>1</td>\n",
       "    </tr>\n",
       "    <tr>\n",
       "      <th>2</th>\n",
       "      <td>1</td>\n",
       "    </tr>\n",
       "    <tr>\n",
       "      <th>3</th>\n",
       "      <td>1</td>\n",
       "    </tr>\n",
       "    <tr>\n",
       "      <th>4</th>\n",
       "      <td>0</td>\n",
       "    </tr>\n",
       "  </tbody>\n",
       "</table>\n",
       "</div>"
      ],
      "text/plain": [
       "   Survived\n",
       "0         0\n",
       "1         1\n",
       "2         1\n",
       "3         1\n",
       "4         0"
      ]
     },
     "execution_count": 29,
     "metadata": {},
     "output_type": "execute_result"
    }
   ],
   "source": [
    "train_y.head()"
   ]
  },
  {
   "cell_type": "code",
   "execution_count": 30,
   "metadata": {},
   "outputs": [
    {
     "data": {
      "text/html": [
       "<div>\n",
       "<style scoped>\n",
       "    .dataframe tbody tr th:only-of-type {\n",
       "        vertical-align: middle;\n",
       "    }\n",
       "\n",
       "    .dataframe tbody tr th {\n",
       "        vertical-align: top;\n",
       "    }\n",
       "\n",
       "    .dataframe thead th {\n",
       "        text-align: right;\n",
       "    }\n",
       "</style>\n",
       "<table border=\"1\" class=\"dataframe\">\n",
       "  <thead>\n",
       "    <tr style=\"text-align: right;\">\n",
       "      <th></th>\n",
       "      <th>Fare</th>\n",
       "      <th>Pclass_1</th>\n",
       "      <th>Pclass_2</th>\n",
       "      <th>Pclass_3</th>\n",
       "      <th>Sex_female</th>\n",
       "      <th>Sex_male</th>\n",
       "      <th>Embarked_C</th>\n",
       "      <th>Embarked_Q</th>\n",
       "      <th>Embarked_S</th>\n",
       "      <th>Position_Master</th>\n",
       "      <th>...</th>\n",
       "      <th>SibSp_existence_0</th>\n",
       "      <th>SibSp_existence_1</th>\n",
       "      <th>Parch_existence_0</th>\n",
       "      <th>Parch_existence_1</th>\n",
       "      <th>Aged_0</th>\n",
       "      <th>Aged_1</th>\n",
       "      <th>Aged_2</th>\n",
       "      <th>Aged_3</th>\n",
       "      <th>Aged_4</th>\n",
       "      <th>Aged_5</th>\n",
       "    </tr>\n",
       "  </thead>\n",
       "  <tbody>\n",
       "    <tr>\n",
       "      <th>0</th>\n",
       "      <td>-0.281005</td>\n",
       "      <td>0</td>\n",
       "      <td>0</td>\n",
       "      <td>1</td>\n",
       "      <td>0</td>\n",
       "      <td>1</td>\n",
       "      <td>0</td>\n",
       "      <td>1</td>\n",
       "      <td>0</td>\n",
       "      <td>0</td>\n",
       "      <td>...</td>\n",
       "      <td>1</td>\n",
       "      <td>0</td>\n",
       "      <td>1</td>\n",
       "      <td>0</td>\n",
       "      <td>0</td>\n",
       "      <td>0</td>\n",
       "      <td>0</td>\n",
       "      <td>1</td>\n",
       "      <td>0</td>\n",
       "      <td>0</td>\n",
       "    </tr>\n",
       "    <tr>\n",
       "      <th>1</th>\n",
       "      <td>-0.316176</td>\n",
       "      <td>0</td>\n",
       "      <td>0</td>\n",
       "      <td>1</td>\n",
       "      <td>1</td>\n",
       "      <td>0</td>\n",
       "      <td>0</td>\n",
       "      <td>0</td>\n",
       "      <td>1</td>\n",
       "      <td>0</td>\n",
       "      <td>...</td>\n",
       "      <td>0</td>\n",
       "      <td>1</td>\n",
       "      <td>1</td>\n",
       "      <td>0</td>\n",
       "      <td>0</td>\n",
       "      <td>0</td>\n",
       "      <td>0</td>\n",
       "      <td>0</td>\n",
       "      <td>1</td>\n",
       "      <td>0</td>\n",
       "    </tr>\n",
       "    <tr>\n",
       "      <th>2</th>\n",
       "      <td>-0.202184</td>\n",
       "      <td>0</td>\n",
       "      <td>1</td>\n",
       "      <td>0</td>\n",
       "      <td>0</td>\n",
       "      <td>1</td>\n",
       "      <td>0</td>\n",
       "      <td>1</td>\n",
       "      <td>0</td>\n",
       "      <td>0</td>\n",
       "      <td>...</td>\n",
       "      <td>1</td>\n",
       "      <td>0</td>\n",
       "      <td>1</td>\n",
       "      <td>0</td>\n",
       "      <td>0</td>\n",
       "      <td>0</td>\n",
       "      <td>0</td>\n",
       "      <td>0</td>\n",
       "      <td>0</td>\n",
       "      <td>1</td>\n",
       "    </tr>\n",
       "    <tr>\n",
       "      <th>3</th>\n",
       "      <td>-0.245660</td>\n",
       "      <td>0</td>\n",
       "      <td>0</td>\n",
       "      <td>1</td>\n",
       "      <td>0</td>\n",
       "      <td>1</td>\n",
       "      <td>0</td>\n",
       "      <td>0</td>\n",
       "      <td>1</td>\n",
       "      <td>0</td>\n",
       "      <td>...</td>\n",
       "      <td>1</td>\n",
       "      <td>0</td>\n",
       "      <td>1</td>\n",
       "      <td>0</td>\n",
       "      <td>0</td>\n",
       "      <td>0</td>\n",
       "      <td>1</td>\n",
       "      <td>0</td>\n",
       "      <td>0</td>\n",
       "      <td>0</td>\n",
       "    </tr>\n",
       "    <tr>\n",
       "      <th>4</th>\n",
       "      <td>-0.091902</td>\n",
       "      <td>0</td>\n",
       "      <td>0</td>\n",
       "      <td>1</td>\n",
       "      <td>1</td>\n",
       "      <td>0</td>\n",
       "      <td>0</td>\n",
       "      <td>0</td>\n",
       "      <td>1</td>\n",
       "      <td>0</td>\n",
       "      <td>...</td>\n",
       "      <td>0</td>\n",
       "      <td>1</td>\n",
       "      <td>0</td>\n",
       "      <td>1</td>\n",
       "      <td>0</td>\n",
       "      <td>0</td>\n",
       "      <td>1</td>\n",
       "      <td>0</td>\n",
       "      <td>0</td>\n",
       "      <td>0</td>\n",
       "    </tr>\n",
       "  </tbody>\n",
       "</table>\n",
       "<p>5 rows × 23 columns</p>\n",
       "</div>"
      ],
      "text/plain": [
       "       Fare  Pclass_1  Pclass_2  Pclass_3  Sex_female  Sex_male  Embarked_C  \\\n",
       "0 -0.281005         0         0         1           0         1           0   \n",
       "1 -0.316176         0         0         1           1         0           0   \n",
       "2 -0.202184         0         1         0           0         1           0   \n",
       "3 -0.245660         0         0         1           0         1           0   \n",
       "4 -0.091902         0         0         1           1         0           0   \n",
       "\n",
       "   Embarked_Q  Embarked_S  Position_Master  ...  SibSp_existence_0  \\\n",
       "0           1           0                0  ...                  1   \n",
       "1           0           1                0  ...                  0   \n",
       "2           1           0                0  ...                  1   \n",
       "3           0           1                0  ...                  1   \n",
       "4           0           1                0  ...                  0   \n",
       "\n",
       "   SibSp_existence_1  Parch_existence_0  Parch_existence_1  Aged_0  Aged_1  \\\n",
       "0                  0                  1                  0       0       0   \n",
       "1                  1                  1                  0       0       0   \n",
       "2                  0                  1                  0       0       0   \n",
       "3                  0                  1                  0       0       0   \n",
       "4                  1                  0                  1       0       0   \n",
       "\n",
       "   Aged_2  Aged_3  Aged_4  Aged_5  \n",
       "0       0       1       0       0  \n",
       "1       0       0       1       0  \n",
       "2       0       0       0       1  \n",
       "3       1       0       0       0  \n",
       "4       1       0       0       0  \n",
       "\n",
       "[5 rows x 23 columns]"
      ]
     },
     "execution_count": 30,
     "metadata": {},
     "output_type": "execute_result"
    }
   ],
   "source": [
    "test_X.head()"
   ]
  },
  {
   "cell_type": "markdown",
   "metadata": {},
   "source": [
    "- 전처리 결과 23개의 변수가 만들어 졌다."
   ]
  },
  {
   "cell_type": "markdown",
   "metadata": {},
   "source": [
    "### 9. 전처리 데이터 저장"
   ]
  },
  {
   "cell_type": "code",
   "execution_count": null,
   "metadata": {},
   "outputs": [],
   "source": [
    "#%% save data\n",
    "train_X.to_csv('train_X.csv', index = False)\n",
    "train_y.to_csv('train_y.csv', index = False)\n",
    "test_X.to_csv('test_X.csv', index = False)"
   ]
  }
 ],
 "metadata": {
  "kernelspec": {
   "display_name": "Python 3",
   "language": "python",
   "name": "python3"
  },
  "language_info": {
   "codemirror_mode": {
    "name": "ipython",
    "version": 3
   },
   "file_extension": ".py",
   "mimetype": "text/x-python",
   "name": "python",
   "nbconvert_exporter": "python",
   "pygments_lexer": "ipython3",
   "version": "3.7.3"
  }
 },
 "nbformat": 4,
 "nbformat_minor": 2
}
