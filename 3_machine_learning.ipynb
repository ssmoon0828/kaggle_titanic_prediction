{
 "cells": [
  {
   "cell_type": "markdown",
   "metadata": {},
   "source": [
    "# 타이타닉호 생존자 예측\n",
    "\n",
    "- RMS 타이타닉 호(이하 타이타닉 호)는 1912년 4월 15일 빙산과 충돌하여 침몰한 북대서양 횡단 여객선이다.\n",
    "\n",
    "- 타이타닉 호에 탑승했던 승객들의 승객번호, 선실등급, 이름, 성별, 나이, 배우자, 형제자매, 부모, 자녀 수, 티켓번호, 운임요금, 선실명, 승선장 정보가 원인변수, 생존여부가 결과변수로 들어있는 데이터프레임을 다양한 기계학습 기법(KNN, 로지스틱회귀분석, 나이브베이즈, SVM, 의사결정나무, 랜덤포레스트)을 이용해 생존여부를 예측 모델을 구축하고자 한다."
   ]
  },
  {
   "cell_type": "markdown",
   "metadata": {},
   "source": [
    "## 3. 기계학습"
   ]
  },
  {
   "cell_type": "markdown",
   "metadata": {},
   "source": [
    "### 1. 모듈 장착"
   ]
  },
  {
   "cell_type": "code",
   "execution_count": 1,
   "metadata": {},
   "outputs": [],
   "source": [
    "# basic module\n",
    "import numpy as np\n",
    "import pandas as pd\n",
    "import matplotlib.pyplot as plt\n",
    "import seaborn as sns\n",
    "\n",
    "# sklaern module\n",
    "from sklearn.neighbors import KNeighborsClassifier\n",
    "from sklearn.naive_bayes import GaussianNB\n",
    "from sklearn.linear_model import LogisticRegression\n",
    "from sklearn.tree import DecisionTreeClassifier\n",
    "from sklearn.svm import SVC\n",
    "from sklearn.ensemble import RandomForestClassifier\n",
    "from sklearn.model_selection import train_test_split\n",
    "\n",
    "# Ipython image module\n",
    "from IPython.display import Image"
   ]
  },
  {
   "cell_type": "markdown",
   "metadata": {},
   "source": [
    "### 2. 데이터 불러오기"
   ]
  },
  {
   "cell_type": "code",
   "execution_count": 2,
   "metadata": {},
   "outputs": [],
   "source": [
    "file_path = 'C:/Users/ssmoo/Desktop/kaggle_titanic_prediction/data/refined_data/'\n",
    "train_X = pd.read_csv(file_path + 'train_X.csv')\n",
    "train_y = pd.read_csv(file_path + 'train_y.csv')\n",
    "test_X = pd.read_csv(file_path + 'test_X.csv')"
   ]
  },
  {
   "cell_type": "markdown",
   "metadata": {},
   "source": [
    "### 3. 학습 데이터, 테스트 데이터 분할"
   ]
  },
  {
   "cell_type": "code",
   "execution_count": 3,
   "metadata": {},
   "outputs": [],
   "source": [
    "X_train, X_test, y_train, y_test = train_test_split(train_X.values, train_y.values, random_state = 0)"
   ]
  },
  {
   "cell_type": "code",
   "execution_count": 4,
   "metadata": {},
   "outputs": [
    {
     "data": {
      "text/plain": [
       "(666, 23)"
      ]
     },
     "execution_count": 4,
     "metadata": {},
     "output_type": "execute_result"
    }
   ],
   "source": [
    "X_train.shape"
   ]
  },
  {
   "cell_type": "code",
   "execution_count": 5,
   "metadata": {},
   "outputs": [
    {
     "data": {
      "text/plain": [
       "(223, 23)"
      ]
     },
     "execution_count": 5,
     "metadata": {},
     "output_type": "execute_result"
    }
   ],
   "source": [
    "X_test.shape"
   ]
  },
  {
   "cell_type": "code",
   "execution_count": 6,
   "metadata": {},
   "outputs": [
    {
     "data": {
      "text/plain": [
       "(666, 1)"
      ]
     },
     "execution_count": 6,
     "metadata": {},
     "output_type": "execute_result"
    }
   ],
   "source": [
    "y_train.shape"
   ]
  },
  {
   "cell_type": "code",
   "execution_count": 7,
   "metadata": {},
   "outputs": [
    {
     "data": {
      "text/plain": [
       "(223, 1)"
      ]
     },
     "execution_count": 7,
     "metadata": {},
     "output_type": "execute_result"
    }
   ],
   "source": [
    "y_test.shape"
   ]
  },
  {
   "cell_type": "code",
   "execution_count": 8,
   "metadata": {},
   "outputs": [],
   "source": [
    "y_train, y_test = y_train.ravel(), y_test.ravel()"
   ]
  },
  {
   "cell_type": "markdown",
   "metadata": {},
   "source": [
    "### 4. 머신러닝 모델별 학습"
   ]
  },
  {
   "cell_type": "markdown",
   "metadata": {},
   "source": [
    "#### 1. KNN"
   ]
  },
  {
   "cell_type": "code",
   "execution_count": 9,
   "metadata": {},
   "outputs": [
    {
     "data": {
      "text/plain": [
       "35"
      ]
     },
     "execution_count": 9,
     "metadata": {},
     "output_type": "execute_result"
    }
   ],
   "source": [
    "n_neighbors_list = np.arange(1, 101)\n",
    "n_neighbors_train_score_list = []\n",
    "n_neighbors_test_score_list = []\n",
    "\n",
    "for n_neighbors in n_neighbors_list:\n",
    "    knn = KNeighborsClassifier(n_neighbors = n_neighbors)\n",
    "    knn.fit(X_train, y_train)\n",
    "    n_neighbors_train_score_list.append(knn.score(X_train, y_train))\n",
    "    n_neighbors_test_score_list.append(knn.score(X_test, y_test))\n",
    "\n",
    "diff_train_test_list = np.array(n_neighbors_train_score_list) - np.array(n_neighbors_test_score_list)\n",
    "np.argmin(diff_train_test_list)"
   ]
  },
  {
   "cell_type": "code",
   "execution_count": 10,
   "metadata": {},
   "outputs": [
    {
     "data": {
      "image/png": "[encoded data removed]",
      "text/plain": [
       "<Figure size 432x288 with 1 Axes>"
      ]
     },
     "metadata": {
      "needs_background": "light"
     },
     "output_type": "display_data"
    }
   ],
   "source": [
    "plt.plot(n_neighbors_list, n_neighbors_train_score_list, label = 'Train score')\n",
    "plt.plot(n_neighbors_list, n_neighbors_test_score_list, label = 'Test score')\n",
    "plt.axvline(x = 36, color = 'red', ls = '--')\n",
    "plt.title('Train score & Test score')\n",
    "plt.xlabel('n_neighbors')\n",
    "plt.ylabel('Score')\n",
    "plt.legend()\n",
    "plt.grid()\n",
    "plt.show()"
   ]
  },
  {
   "cell_type": "markdown",
   "metadata": {},
   "source": [
    "- 매개변수 n_neighbors가 작을수록 과대적합, 클수록 과소적합 된다.\n",
    "- train score과 test score의 차이가 가장 적은 곳은 35번 째 데이터로 매개변수 n이 36일 때 가장 적합한 것으로 판단된다."
   ]
  },
  {
   "cell_type": "code",
   "execution_count": 11,
   "metadata": {},
   "outputs": [
    {
     "data": {
      "text/plain": [
       "0.7802690582959642"
      ]
     },
     "execution_count": 11,
     "metadata": {},
     "output_type": "execute_result"
    }
   ],
   "source": [
    "knn = KNeighborsClassifier(n_neighbors = 36)\n",
    "knn.fit(X_train, y_train)\n",
    "knn.score(X_test, y_test)"
   ]
  },
  {
   "cell_type": "markdown",
   "metadata": {},
   "source": [
    "- 매개변수 n_neighbors를 36으로 train set을 적합시켰을 때 test set의 예측 스코어는 약 0.78이다."
   ]
  },
  {
   "cell_type": "markdown",
   "metadata": {},
   "source": [
    "#### 2. 나이브 베이즈"
   ]
  },
  {
   "cell_type": "code",
   "execution_count": 12,
   "metadata": {},
   "outputs": [
    {
     "data": {
      "text/plain": [
       "0.7443946188340808"
      ]
     },
     "execution_count": 12,
     "metadata": {},
     "output_type": "execute_result"
    }
   ],
   "source": [
    "nb = GaussianNB()\n",
    "nb.fit(X_train, y_train)\n",
    "nb.score(X_test, y_test)"
   ]
  },
  {
   "cell_type": "markdown",
   "metadata": {},
   "source": [
    "- 나이브베이즈 모델의 예측 스코어는 약 0.74이다."
   ]
  },
  {
   "cell_type": "markdown",
   "metadata": {},
   "source": [
    "#### 3. 로지스틱 회귀"
   ]
  },
  {
   "cell_type": "code",
   "execution_count": 13,
   "metadata": {},
   "outputs": [
    {
     "name": "stderr",
     "output_type": "stream",
     "text": [
      "C:\\Users\\ssmoo\\Anaconda3\\lib\\site-packages\\sklearn\\linear_model\\logistic.py:432: FutureWarning: Default solver will be changed to 'lbfgs' in 0.22. Specify a solver to silence this warning.\n",
      "  FutureWarning)\n",
      "C:\\Users\\ssmoo\\Anaconda3\\lib\\site-packages\\sklearn\\linear_model\\logistic.py:432: FutureWarning: Default solver will be changed to 'lbfgs' in 0.22. Specify a solver to silence this warning.\n",
      "  FutureWarning)\n",
      "C:\\Users\\ssmoo\\Anaconda3\\lib\\site-packages\\sklearn\\linear_model\\logistic.py:432: FutureWarning: Default solver will be changed to 'lbfgs' in 0.22. Specify a solver to silence this warning.\n",
      "  FutureWarning)\n",
      "C:\\Users\\ssmoo\\Anaconda3\\lib\\site-packages\\sklearn\\linear_model\\logistic.py:432: FutureWarning: Default solver will be changed to 'lbfgs' in 0.22. Specify a solver to silence this warning.\n",
      "  FutureWarning)\n",
      "C:\\Users\\ssmoo\\Anaconda3\\lib\\site-packages\\sklearn\\linear_model\\logistic.py:432: FutureWarning: Default solver will be changed to 'lbfgs' in 0.22. Specify a solver to silence this warning.\n",
      "  FutureWarning)\n",
      "C:\\Users\\ssmoo\\Anaconda3\\lib\\site-packages\\sklearn\\linear_model\\logistic.py:432: FutureWarning: Default solver will be changed to 'lbfgs' in 0.22. Specify a solver to silence this warning.\n",
      "  FutureWarning)\n",
      "C:\\Users\\ssmoo\\Anaconda3\\lib\\site-packages\\sklearn\\linear_model\\logistic.py:432: FutureWarning: Default solver will be changed to 'lbfgs' in 0.22. Specify a solver to silence this warning.\n",
      "  FutureWarning)\n",
      "C:\\Users\\ssmoo\\Anaconda3\\lib\\site-packages\\sklearn\\linear_model\\logistic.py:432: FutureWarning: Default solver will be changed to 'lbfgs' in 0.22. Specify a solver to silence this warning.\n",
      "  FutureWarning)\n",
      "C:\\Users\\ssmoo\\Anaconda3\\lib\\site-packages\\sklearn\\linear_model\\logistic.py:432: FutureWarning: Default solver will be changed to 'lbfgs' in 0.22. Specify a solver to silence this warning.\n",
      "  FutureWarning)\n"
     ]
    }
   ],
   "source": [
    "C_list = [0.01, 0.05, 0.1, 0.5, 1, 5, 10, 50, 100]\n",
    "C_train_score_list = []\n",
    "C_test_score_list = []\n",
    "\n",
    "for C in C_list:\n",
    "    lr = LogisticRegression(C = C)\n",
    "    lr.fit(X_train, y_train)\n",
    "    C_train_score_list.append(lr.score(X_train, y_train))\n",
    "    C_test_score_list.append(lr.score(X_test, y_test)) # 0.1 에서 가장 높음\n"
   ]
  },
  {
   "cell_type": "code",
   "execution_count": 14,
   "metadata": {},
   "outputs": [
    {
     "data": {
      "image/png": "[encoded data removed]",
      "text/plain": [
       "<Figure size 432x288 with 1 Axes>"
      ]
     },
     "metadata": {
      "needs_background": "light"
     },
     "output_type": "display_data"
    }
   ],
   "source": [
    "C_list_str = list(map(str, C_list))\n",
    "\n",
    "plt.plot(C_list_str, C_train_score_list, label = 'Train score')\n",
    "plt.plot(C_list_str, C_test_score_list, label = 'Test score')\n",
    "plt.title('Train score & Test score')\n",
    "plt.xlabel('C')\n",
    "plt.ylabel('Score')\n",
    "plt.legend()\n",
    "plt.grid()\n",
    "plt.show()"
   ]
  },
  {
   "cell_type": "markdown",
   "metadata": {},
   "source": [
    "- 매개변수 C값이 작을수록 과소적합, 클수록 과대적합된다.\n",
    "- 로지스틱 회귀 모델에서 매개변수 C값이 0.1일때 가장 예측력이 좋았으며 이때 test set의 예측 스코어는 약 0.78이다."
   ]
  },
  {
   "cell_type": "markdown",
   "metadata": {},
   "source": [
    "#### 4. SVM"
   ]
  },
  {
   "cell_type": "code",
   "execution_count": 15,
   "metadata": {},
   "outputs": [],
   "source": [
    "C_list = [0.01, 0.05, 0.1, 0.5, 1, 5, 10, 50, 100]\n",
    "gamma_list = [0.01, 0.05, 0.1, 0.5, 1, 5, 10, 50, 100]\n",
    "C_gamma_matrix = np.zeros([9, 9])\n",
    "\n",
    "for j in range(len(gamma_list)):\n",
    "    \n",
    "    for i in range(len(C_list)):\n",
    "        svm = SVC(C = C_list[i], gamma = gamma_list[j])\n",
    "        svm.fit(X_train, y_train)\n",
    "        C_gamma_matrix[i, j] = svm.score(X_test, y_test)\n",
    "\n",
    "\n",
    "C_gamma_df = pd.DataFrame(C_gamma_matrix)\n",
    "C_gamma_df.index = [0.01, 0.05, 0.1, 0.5, 1, 5, 10, 50, 100]\n",
    "C_gamma_df.columns = [0.01, 0.05, 0.1, 0.5, 1, 5, 10, 50, 100]"
   ]
  },
  {
   "cell_type": "code",
   "execution_count": 16,
   "metadata": {},
   "outputs": [
    {
     "data": {
      "image/png": "[encoded data removed]",
      "text/plain": [
       "<Figure size 432x288 with 2 Axes>"
      ]
     },
     "metadata": {
      "needs_background": "light"
     },
     "output_type": "display_data"
    }
   ],
   "source": [
    "sns.heatmap(C_gamma_df, annot=True, cmap='YlGnBu')\n",
    "plt.title('Score with C, gamma')\n",
    "plt.xlabel('gamma')\n",
    "plt.ylabel('C')\n",
    "plt.show()"
   ]
  },
  {
   "cell_type": "code",
   "execution_count": 17,
   "metadata": {},
   "outputs": [
    {
     "data": {
      "text/plain": [
       "0.7847533632286996"
      ]
     },
     "execution_count": 17,
     "metadata": {},
     "output_type": "execute_result"
    }
   ],
   "source": [
    "# C = 1, gamma = 0.05\n",
    "svm = SVC(C = 1, gamma = 0.05)\n",
    "svm.fit(X_train, y_train)\n",
    "svm.score(X_test, y_test)"
   ]
  },
  {
   "cell_type": "markdown",
   "metadata": {},
   "source": [
    "- SVM은 매개변수가 C와 gamma 두가지이므로 히트맵을 그려 적절한 매개변수를 찾는다.\n",
    "- 매개변수 C : 1.0, gamma : 0.05에서 test set에 대한 예측스코어가 약 0.78로 가장 좋다."
   ]
  },
  {
   "cell_type": "markdown",
   "metadata": {},
   "source": [
    "#### 5. 의사결정나무"
   ]
  },
  {
   "cell_type": "code",
   "execution_count": 19,
   "metadata": {},
   "outputs": [
    {
     "data": {
      "text/plain": [
       "10"
      ]
     },
     "execution_count": 19,
     "metadata": {},
     "output_type": "execute_result"
    }
   ],
   "source": [
    "max_depth_list = np.arange(1, 101)\n",
    "max_depth_train_score_list = []\n",
    "max_depth_test_score_list = []\n",
    "\n",
    "for max_depth in max_depth_list:\n",
    "    dt = DecisionTreeClassifier(max_depth = max_depth)\n",
    "    dt.fit(X_train, y_train)\n",
    "    max_depth_train_score_list.append(dt.score(X_train, y_train))\n",
    "    max_depth_test_score_list.append(dt.score(X_test, y_test))\n",
    "  \n",
    "max_depth_list[np.argmax(max_depth_test_score_list)]"
   ]
  },
  {
   "cell_type": "code",
   "execution_count": 20,
   "metadata": {},
   "outputs": [
    {
     "data": {
      "image/png": "[encoded data removed]",
      "text/plain": [
       "<Figure size 432x288 with 1 Axes>"
      ]
     },
     "metadata": {
      "needs_background": "light"
     },
     "output_type": "display_data"
    }
   ],
   "source": [
    "plt.plot(max_depth_list, max_depth_train_score_list, label = 'Train score')\n",
    "plt.plot(max_depth_list, max_depth_test_score_list, label = 'Test score')\n",
    "plt.axvline(10, c = 'red', ls = '--')\n",
    "plt.title('Train score & Test score')\n",
    "plt.xlabel('Depth')\n",
    "plt.ylabel('Score')\n",
    "plt.grid()\n",
    "plt.legend()\n",
    "plt.show()"
   ]
  },
  {
   "cell_type": "code",
   "execution_count": 21,
   "metadata": {},
   "outputs": [
    {
     "data": {
      "text/plain": [
       "0.7937219730941704"
      ]
     },
     "execution_count": 21,
     "metadata": {},
     "output_type": "execute_result"
    }
   ],
   "source": [
    "dt = DecisionTreeClassifier(max_depth = 10)\n",
    "dt.fit(X_train, y_train)\n",
    "dt.score(X_test, y_test)"
   ]
  },
  {
   "cell_type": "markdown",
   "metadata": {},
   "source": [
    "- 매개변수 max_depth 값은 10에서 예측력이 좋았으며 test set에 대한 점수는 약 0.79가 나왔다.\n",
    "- 의사결정나무가 여러 지도학습 모델 중 가장 높은 예측력을 보였다."
   ]
  },
  {
   "cell_type": "markdown",
   "metadata": {},
   "source": [
    "#### 6. 랜덤 포레스트"
   ]
  },
  {
   "cell_type": "code",
   "execution_count": 22,
   "metadata": {},
   "outputs": [
    {
     "data": {
      "text/plain": [
       "0.7623318385650224"
      ]
     },
     "execution_count": 22,
     "metadata": {},
     "output_type": "execute_result"
    }
   ],
   "source": [
    "rf = RandomForestClassifier(n_estimators = 100)\n",
    "rf.fit(X_train, y_train)\n",
    "rf.score(X_test, y_test)"
   ]
  },
  {
   "cell_type": "markdown",
   "metadata": {},
   "source": [
    "- n_estimators를 100으로 설정한 결과 예측스코어는 0.76이 나왔다."
   ]
  },
  {
   "cell_type": "markdown",
   "metadata": {},
   "source": [
    "#### 7. 앙상블 분류기\n",
    "\n",
    "- 위의 6가지 모델을 기반으로 앙상블 분류기를 만든다.\n",
    "- 생존, 사망에 대한 예측 비율이 5:5가 나올 경우 사망으로 분류한다."
   ]
  },
  {
   "cell_type": "markdown",
   "metadata": {},
   "source": [
    "##### train set"
   ]
  },
  {
   "cell_type": "code",
   "execution_count": 23,
   "metadata": {},
   "outputs": [
    {
     "name": "stdout",
     "output_type": "stream",
     "text": [
      "0.8648648648648649\n"
     ]
    }
   ],
   "source": [
    "def get_ensemble_pred(knn_pred, nb_pred, lr_pred, svm_pred, dt_pred, rf_pred):\n",
    "    tmp_pred = knn_pred + nb_pred + lr_pred + svm_pred + dt_pred + rf_pred\n",
    "    tmp_pred = (tmp_pred / 5) > 0.5\n",
    "    \n",
    "    return tmp_pred.astype(int)\n",
    "    \n",
    "knn_pred = knn.predict(X_train)\n",
    "nb_pred = nb.predict(X_train)\n",
    "lr_pred = lr.predict(X_train)\n",
    "svm_pred = svm.predict(X_train)\n",
    "dt_pred = dt.predict(X_train)\n",
    "rf_pred = rf.predict(X_train)\n",
    "\n",
    "ensemble_pred = get_ensemble_pred(knn_pred, nb_pred, lr_pred, svm_pred, dt_pred, rf_pred)\n",
    "\n",
    "print(np.sum(ensemble_pred == y_train.flatten()) / len(X_train))"
   ]
  },
  {
   "cell_type": "markdown",
   "metadata": {},
   "source": [
    "##### test set"
   ]
  },
  {
   "cell_type": "code",
   "execution_count": 24,
   "metadata": {},
   "outputs": [
    {
     "name": "stdout",
     "output_type": "stream",
     "text": [
      "0.7713004484304933\n"
     ]
    }
   ],
   "source": [
    "knn_pred = knn.predict(X_test)\n",
    "nb_pred = nb.predict(X_test)\n",
    "lr_pred = lr.predict(X_test)\n",
    "svm_pred = svm.predict(X_test)\n",
    "dt_pred = dt.predict(X_test)\n",
    "rf_pred = rf.predict(X_test)\n",
    "\n",
    "ensemble_pred = get_ensemble_pred(knn_pred, nb_pred, lr_pred, svm_pred, dt_pred, rf_pred)\n",
    "\n",
    "print(np.sum(ensemble_pred == y_test.flatten()) / len(X_test))"
   ]
  },
  {
   "cell_type": "markdown",
   "metadata": {},
   "source": [
    "- train set에 대한 예측 스코어는 약 0.86, test set에 대한 예측스코어는 약 0.77이다."
   ]
  },
  {
   "cell_type": "markdown",
   "metadata": {},
   "source": [
    "### 5. 예측 데이터 저장 및 제출"
   ]
  },
  {
   "cell_type": "code",
   "execution_count": 26,
   "metadata": {},
   "outputs": [],
   "source": [
    "PassengerId = np.arange(892,892 + 418)\n",
    "\n",
    "# knn\n",
    "Survived = knn.predict(test_X)\n",
    "knn_pred = pd.DataFrame({'PassengerId' : PassengerId,\n",
    "                         'Survived' : Survived})\n",
    "knn_pred.to_csv('knn_pred.csv', index = False)\n",
    "\n",
    "# naive bayes\n",
    "Survived = nb.predict(test_X)\n",
    "nb_pred = pd.DataFrame({'PassengerId' : PassengerId,\n",
    "                         'Survived' : Survived})\n",
    "nb_pred.to_csv('nb_pred.csv', index = False)\n",
    "\n",
    "# logistic regression\n",
    "Survived = lr.predict(test_X)\n",
    "lr_pred = pd.DataFrame({'PassengerId' : PassengerId,\n",
    "                         'Survived' : Survived})\n",
    "lr_pred.to_csv('lr_pred.csv', index = False)\n",
    "\n",
    "# svm\n",
    "Survived = svm.predict(test_X)\n",
    "svm_pred = pd.DataFrame({'PassengerId' : PassengerId,\n",
    "                         'Survived' : Survived})\n",
    "svm_pred.to_csv('svm_pred.csv', index = False)\n",
    "\n",
    "# decision tree\n",
    "Survived = dt.predict(test_X)\n",
    "dt_pred = pd.DataFrame({'PassengerId' : PassengerId,\n",
    "                         'Survived' : Survived})\n",
    "dt_pred.to_csv('dt_pred.csv', index = False)\n",
    "\n",
    "# random forest\n",
    "Survived = rf.predict(test_X)\n",
    "rf_pred = pd.DataFrame({'PassengerId' : PassengerId,\n",
    "                         'Survived' : Survived})\n",
    "rf_pred.to_csv('rf_pred.csv', index = False)\n",
    "\n",
    "# ensemble\n",
    "knn_pred = knn.predict(test_X)\n",
    "nb_pred = nb.predict(test_X)\n",
    "lr_pred = lr.predict(test_X)\n",
    "svm_pred = svm.predict(test_X)\n",
    "dt_pred = dt.predict(test_X)\n",
    "rf_pred = rf.predict(test_X)\n",
    "\n",
    "Survived = get_ensemble_pred(knn_pred, nb_pred, lr_pred, svm_pred, dt_pred, rf_pred)\n",
    "ensemble_pred = pd.DataFrame({'PassengerId' : PassengerId,\n",
    "                              'Survived' : Survived})\n",
    "ensemble_pred.to_csv('ensemble_pred.csv', index = False)"
   ]
  },
  {
   "cell_type": "markdown",
   "metadata": {},
   "source": [
    "- 위의 7가지 학습모델을 이용해 kaggle에서 첨부한 test.csv의 Survived(생존여부) 변수를 예측하고 예측 결과 데이터를 저장한다."
   ]
  },
  {
   "cell_type": "markdown",
   "metadata": {},
   "source": [
    "### 6. 결과"
   ]
  },
  {
   "cell_type": "code",
   "execution_count": 27,
   "metadata": {},
   "outputs": [
    {
     "data": {
      "image/png": "[encoded data removed]",
      "text/plain": [
       "<IPython.core.display.Image object>"
      ]
     },
     "execution_count": 27,
     "metadata": {},
     "output_type": "execute_result"
    }
   ],
   "source": [
    "Image('C:/Users/ssmoo/Desktop/pred_score.png')"
   ]
  },
  {
   "cell_type": "markdown",
   "metadata": {},
   "source": [
    "- 예측 스코어가 좋은 모델 부터 나열하면\n",
    "\n",
    "모델 | 점수\n",
    "-----|------\n",
    "앙상블분류기 | 0.77990\n",
    "SVM | 0.77990\n",
    "로지스틱 회귀 | 0.77511\n",
    "KNN | 0.76076\n",
    "나이브베이즈 | 0.74162\n",
    "랜덤포레스트 | 0.74162\n",
    "의사결정나무 | 0.71770\n",
    "\n",
    "- 위와 같이 나타난다."
   ]
  },
  {
   "cell_type": "code",
   "execution_count": null,
   "metadata": {},
   "outputs": [],
   "source": []
  }
 ],
 "metadata": {
  "kernelspec": {
   "display_name": "Python 3",
   "language": "python",
   "name": "python3"
  },
  "language_info": {
   "codemirror_mode": {
    "name": "ipython",
    "version": 3
   },
   "file_extension": ".py",
   "mimetype": "text/x-python",
   "name": "python",
   "nbconvert_exporter": "python",
   "pygments_lexer": "ipython3",
   "version": "3.7.3"
  }
 },
 "nbformat": 4,
 "nbformat_minor": 2
}
